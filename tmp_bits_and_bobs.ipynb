{
  "nbformat": 4,
  "nbformat_minor": 0,
  "metadata": {
    "colab": {
      "name": "tmp_bits_and_bobs.ipynb",
      "provenance": [],
      "authorship_tag": "ABX9TyMJ6afdN99/plGypEMlxQ6z",
      "include_colab_link": true
    },
    "kernelspec": {
      "name": "python3",
      "display_name": "Python 3"
    }
  },
  "cells": [
    {
      "cell_type": "markdown",
      "metadata": {
        "id": "view-in-github",
        "colab_type": "text"
      },
      "source": [
        "<a href=\"https://colab.research.google.com/github/rafajak/gpt3_examples/blob/master/tmp_bits_and_bobs.ipynb\" target=\"_parent\"><img src=\"https://colab.research.google.com/assets/colab-badge.svg\" alt=\"Open In Colab\"/></a>"
      ]
    },
    {
      "cell_type": "code",
      "metadata": {
        "id": "pU4aqPFNW3kn",
        "colab_type": "code",
        "colab": {}
      },
      "source": [
        "#Here's a file containing all training tokens: \n",
        "# length of all GPT-2 token list # \n",
        "fp = \"https://s3.amazonaws.com/models.huggingface.co/bert/gpt2-xl-vocab.json\"\n",
        "req = requests.get(str(fp))\n",
        "all_gpt3_tokens = req.json()\n",
        "\n",
        "#Here's a list of all tokens containing a substring 'dog'\n",
        "strings_with_blocked_phrase = [t.replace for t in all_gpt3_tokens if 'dog' in t]\n",
        "print(strings_with_blocked_phrase)"
      ],
      "execution_count": null,
      "outputs": []
    },
    {
      "cell_type": "code",
      "metadata": {
        "id": "wskZ7PgsW5UH",
        "colab_type": "code",
        "colab": {}
      },
      "source": [
        "# Some words span multiple tokens. For instance: \"gargantuan\" (love that word)\n",
        "indexed_token = tokenizer.encode('gargantuan')\n",
        "indexed_token\n",
        "for t in indexed_token:\n",
        "    print(f'{t} -- {tokenizer.decode(t)}')"
      ],
      "execution_count": null,
      "outputs": []
    },
    {
      "cell_type": "code",
      "metadata": {
        "id": "CrVNxGDoaTGS",
        "colab_type": "code",
        "colab": {}
      },
      "source": [
        ""
      ],
      "execution_count": null,
      "outputs": []
    },
    {
      "cell_type": "code",
      "metadata": {
        "id": "rTx1i9zHW5YN",
        "colab_type": "code",
        "colab": {}
      },
      "source": [
        ""
      ],
      "execution_count": null,
      "outputs": []
    },
    {
      "cell_type": "code",
      "metadata": {
        "id": "mgyJ-MiOW5Wd",
        "colab_type": "code",
        "colab": {}
      },
      "source": [
        ""
      ],
      "execution_count": null,
      "outputs": []
    }
  ]
}